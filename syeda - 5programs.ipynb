{
 "cells": [
  {
   "cell_type": "code",
   "execution_count": 54,
   "id": "008bd56c",
   "metadata": {},
   "outputs": [
    {
     "name": "stdout",
     "output_type": "stream",
     "text": [
      "input from input75\n",
      "A scored scored good marks\n"
     ]
    }
   ],
   "source": [
    "# Taking input from user\n",
    "A=int(input(\"input from input\"))\n",
    "if A==28:\n",
    "    print(\"A is just pass\")\n",
    "elif A<28:\n",
    "        print(\"A is fail \")\n",
    "elif A<=60 :\n",
    "            print(\"A is pass\")\n",
    "elif A>=70:\n",
    "              print(\"A scored scored good marks\")\n",
    "else:\n",
    "                print(\"A is distinction\")\n",
    "                \n",
    "        "
   ]
  },
  {
   "cell_type": "code",
   "execution_count": 30,
   "id": "82bba219",
   "metadata": {},
   "outputs": [
    {
     "name": "stdout",
     "output_type": "stream",
     "text": [
      "1 2 3 4 5 6 "
     ]
    }
   ],
   "source": [
    "list=[1,2,3,4,5,6]\n",
    "for b in list:\n",
    "    print(b,end= \" \")"
   ]
  },
  {
   "cell_type": "code",
   "execution_count": 36,
   "id": "435f3234",
   "metadata": {},
   "outputs": [
    {
     "name": "stdout",
     "output_type": "stream",
     "text": [
      "[1, 2, 3, 4, 5, 6]6\n",
      "c move and get another turn\n"
     ]
    }
   ],
   "source": [
    "c=int(input([1,2,3,4,5,6]))\n",
    "if c==6:\n",
    "    print(\"c move and get another turn\")\n",
    "else:\n",
    "    print(\"pass the dies\")\n",
    "    if c==2:\n",
    "        print(\"next turn\")\n",
    "\n",
    "    "
   ]
  },
  {
   "cell_type": "code",
   "execution_count": 48,
   "id": "70ec845e",
   "metadata": {},
   "outputs": [
    {
     "name": "stdout",
     "output_type": "stream",
     "text": [
      "pass the die to a\n"
     ]
    }
   ],
   "source": [
    "a=(1,2,3,4,5,6)\n",
    "b=(1,2,3,4,5,6)\n",
    "if a==[1,5]:\n",
    "    print(\"pass the dies\")\n",
    "elif b==6:\n",
    "        print(\"b moves and get another chance\")\n",
    "else:\n",
    "            print(\"pass the die to a\")\n"
   ]
  },
  {
   "cell_type": "code",
   "execution_count": 55,
   "id": "2c39e164",
   "metadata": {},
   "outputs": [
    {
     "name": "stdout",
     "output_type": "stream",
     "text": [
      "input from user 6\n",
      "input from user 6\n",
      "b moves and get aother chance\n"
     ]
    }
   ],
   "source": [
    "a=int(input (\"input from user\"))\n",
    "b=int(input(\"input from user\"))\n",
    "if a<=5:\n",
    "    print(\"pass the dies\")\n",
    "elif b==6:\n",
    "    print(\"b moves and get aother chance\")\n",
    "else:\n",
    "        print(\"trun goes to a\")\n",
    "    "
   ]
  },
  {
   "cell_type": "code",
   "execution_count": 1,
   "id": "952e2b99",
   "metadata": {},
   "outputs": [
    {
     "data": {
      "text/plain": [
       "-9"
      ]
     },
     "execution_count": 1,
     "metadata": {},
     "output_type": "execute_result"
    }
   ],
   "source": [
    "def hanitwo(p,r,s):\n",
    "    f=p-r-s\n",
    "    return f\n",
    "hanitwo(2,5,6)"
   ]
  },
  {
   "cell_type": "code",
   "execution_count": 2,
   "id": "743dd563",
   "metadata": {},
   "outputs": [
    {
     "data": {
      "text/plain": [
       "64"
      ]
     },
     "execution_count": 2,
     "metadata": {},
     "output_type": "execute_result"
    }
   ],
   "source": [
    "def jcube(x,y):\n",
    "    return(x+y)**3\n",
    "jcube(2,2)"
   ]
  },
  {
   "cell_type": "code",
   "execution_count": 3,
   "id": "afc22943",
   "metadata": {},
   "outputs": [
    {
     "name": "stdout",
     "output_type": "stream",
     "text": [
      "from user20\n",
      "from user30\n",
      "600\n"
     ]
    }
   ],
   "source": [
    "x=int(input (\"from user\"))\n",
    "y=int(input (\"from user\"))\n",
    "def multiplication(x,y):\n",
    "    return(x*y)\n",
    "z=multiplication (x,y)\n",
    "print(z)"
   ]
  },
  {
   "cell_type": "code",
   "execution_count": 4,
   "id": "f0998adb",
   "metadata": {},
   "outputs": [
    {
     "data": {
      "text/plain": [
       "80"
      ]
     },
     "execution_count": 4,
     "metadata": {},
     "output_type": "execute_result"
    }
   ],
   "source": [
    "def maximum(a,b,c):\n",
    "    if (a<b and a>c):\n",
    "        return a\n",
    "    elif (b>a and b>c):\n",
    "            return b\n",
    "    else:\n",
    "            return c\n",
    "maximum(20,30,80)\n",
    "        "
   ]
  },
  {
   "cell_type": "code",
   "execution_count": null,
   "id": "20416d44",
   "metadata": {},
   "outputs": [],
   "source": []
  }
 ],
 "metadata": {
  "kernelspec": {
   "display_name": "Python 3 (ipykernel)",
   "language": "python",
   "name": "python3"
  },
  "language_info": {
   "codemirror_mode": {
    "name": "ipython",
    "version": 3
   },
   "file_extension": ".py",
   "mimetype": "text/x-python",
   "name": "python",
   "nbconvert_exporter": "python",
   "pygments_lexer": "ipython3",
   "version": "3.9.13"
  }
 },
 "nbformat": 4,
 "nbformat_minor": 5
}
